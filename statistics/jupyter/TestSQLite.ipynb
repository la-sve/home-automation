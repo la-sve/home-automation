{
 "cells": [
  {
   "cell_type": "markdown",
   "id": "a3e3e7f2-b896-4b09-b66b-2eb0b1234aa3",
   "metadata": {},
   "source": [
    "# Langzeitdaten von Home Assistant auswerten\n",
    "Ersetzt DB Browser nicht, jedoch kann das mit DB Browser entwickelte SQL-Statement mit jupyter notepad gut visualisiert werden.\n",
    "\n",
    "Zunächst importieren wir die notwendigen Bibliotheken:"
   ]
  },
  {
   "cell_type": "code",
   "execution_count": null,
   "id": "8ba208c5-42ff-4bbb-a575-d4b5ed667579",
   "metadata": {},
   "outputs": [],
   "source": [
    "import sqlite3 as db\n",
    "from dateutil import parser\n",
    "import matplotlib.pyplot as plt\n",
    "# Für laufenden Mittelwert\n",
    "import pandas as pd"
   ]
  },
  {
   "cell_type": "markdown",
   "id": "b4ce5b8d-c33d-43a7-9354-6b2ea49042cc",
   "metadata": {},
   "source": [
    "Um die python-Autovervollständigung zu nutzen muss folgendes \"Magic Command\" verwendet werden:"
   ]
  },
  {
   "cell_type": "code",
   "execution_count": null,
   "id": "ffcf102e-8290-4715-af89-6bcb3b3319f8",
   "metadata": {},
   "outputs": [],
   "source": [
    "%config Completer.use_jedi = False"
   ]
  },
  {
   "cell_type": "markdown",
   "id": "4634d9f7-6f62-44db-bfb3-045a51f3f4c7",
   "metadata": {},
   "source": [
    "Mittels **shift** + **Tab** kann die Hilfe zu einer Funktion aufgerufen werden.\n",
    "Funktion / Methode muss bereits im Code fertig geschrieben sein, dann kann die Hilfe entsprechend aufgerufen werden."
   ]
  },
  {
   "cell_type": "markdown",
   "id": "6cf00f8c-ea01-475c-a75a-8553f7f83ef4",
   "metadata": {},
   "source": [
    "## Interaktive Plots nutzen\n",
    "Hierzu wird ein [zusätzliches Paket](https://github.com/matplotlib/ipympl) benötigt. Mittels IPYMPL werden interaktive Widgets ermöglicht. Zum aktivieren wird das magische Kommando `%matplotlib widget` verwendet. Wird anstatt *widget* zu *inline* gewechselt, wird das Plugin wieder deaktiviert."
   ]
  },
  {
   "cell_type": "code",
   "execution_count": null,
   "id": "d66f758b-f384-457e-b8aa-486923d45076",
   "metadata": {},
   "outputs": [],
   "source": [
    "%matplotlib widget"
   ]
  },
  {
   "cell_type": "markdown",
   "id": "92f2161f-e348-4859-b0b0-9adad9305d06",
   "metadata": {},
   "source": [
    "## Datenbankverbindung herstellen"
   ]
  },
  {
   "cell_type": "code",
   "execution_count": null,
   "id": "a4230886-d36b-4208-8598-0190b5222044",
   "metadata": {},
   "outputs": [],
   "source": [
    "#connect to database or create if doesn't exist\n",
    "conn = db.connect('home-assistant_v2.db')\n",
    "\n",
    "#create cursor\n",
    "c = conn.cursor()"
   ]
  },
  {
   "cell_type": "markdown",
   "id": "28fe7c8d-ca2e-4970-b129-f246791dd034",
   "metadata": {},
   "source": [
    "## Entity-ID herausfinden"
   ]
  },
  {
   "cell_type": "code",
   "execution_count": null,
   "id": "e7dc1708-8001-43b1-b653-2641ff6ec941",
   "metadata": {},
   "outputs": [],
   "source": [
    "c.execute(\"\"\"\n",
    "SELECT A.entity_id, A.attributes\n",
    "FROM (SELECT DISTINCT entity_id, attributes\n",
    "FROM states\n",
    "GROUP BY entity_id) AS A\n",
    "WHERE A.attributes LIKE \"%STUD%\";\n",
    "\"\"\")\n",
    "c.fetchall()"
   ]
  },
  {
   "cell_type": "markdown",
   "id": "0537723f-372b-44cc-9f93-1d3a964ee2c6",
   "metadata": {},
   "source": [
    "## Beispiel 1: Studio Temperaturen"
   ]
  },
  {
   "cell_type": "code",
   "execution_count": null,
   "id": "d23de62d-8a3e-4bb8-8e32-b25264b998f7",
   "metadata": {},
   "outputs": [],
   "source": [
    "#check data in table\n",
    "c.execute(\"\"\"\n",
    "SELECT 'Studio' as sensor, start, mean, min, max \n",
    "FROM statistics \n",
    "WHERE metadata_id IN (\n",
    "  SELECT id \n",
    "  FROM statistics_meta \n",
    "  WHERE statistic_id = 'sensor.28_ff5ad9501603_temperature') \n",
    "AND min > -20  AND max < 40\n",
    "AND start > '2022-01-01'\n",
    "AND start < '2022-01-20'; --YYYY-MM-DD;\"\"\")\n",
    "data = c.fetchall()\n",
    "print(data[1])"
   ]
  },
  {
   "cell_type": "code",
   "execution_count": null,
   "id": "62396b1b-8afe-4f43-9e3e-fb9551e7634d",
   "metadata": {},
   "outputs": [],
   "source": [
    "dates = []\n",
    "values = []\n",
    "for row in data:\n",
    "    dates.append(parser.parse(row[1]))\n",
    "    values.append(row[2])\n"
   ]
  },
  {
   "cell_type": "code",
   "execution_count": null,
   "id": "d6bbf534-177c-4a5c-a904-4e2a128de0b3",
   "metadata": {},
   "outputs": [],
   "source": [
    "h = plt.figure(figsize=(12, 5))\n",
    "plt.plot(dates,values,'-')\n",
    "h.gca().grid()\n",
    "#plt.show()\n",
    "temp_series = pd.Series(values)\n",
    "plt.plot(dates, temp_series.rolling(5).mean(),'r--')"
   ]
  },
  {
   "cell_type": "markdown",
   "id": "0482e4c3-8617-468c-bdbb-72315d1fde3e",
   "metadata": {},
   "source": [
    "## Beispiel 2: Temperatur und Luftfeuchte in der Garage\n",
    "Hier wird eine zweite y-Achse für die Luftfeuchtigkeit angelegt. "
   ]
  },
  {
   "cell_type": "code",
   "execution_count": null,
   "id": "1e050f08-c4ea-4a64-ba07-c078814b357c",
   "metadata": {},
   "outputs": [],
   "source": [
    "#check data in table\n",
    "c.execute(\"\"\"\n",
    "SELECT A.start as Time, A.mean as Temperature, HUMID.mean as Humidity \n",
    "FROM\n",
    "  (SELECT \"GarageTemp\" as sensor, start, mean, min, max \n",
    "   FROM statistics \n",
    "   WHERE metadata_id IN (SELECT id FROM statistics_meta WHERE statistic_id = \"sensor.26_00003824da00_temperature\") \n",
    "   AND min > -20 \n",
    "   AND max < 40) AS A,\n",
    "  (SELECT start, mean, min, max \n",
    "   FROM statistics \n",
    "   WHERE metadata_id IN (SELECT id FROM statistics_meta WHERE statistic_id = \"sensor.26_00003824da00_humidity_htm1735\") \n",
    "   AND min > 0 \n",
    "   AND max < 100) AS HUMID\n",
    "WHERE\n",
    "  A.start = HUMID.start\n",
    "  AND A.start > '2022-01-01'\n",
    "  AND A.start < '2022-01-20'; --YYYY-MM-DD\n",
    "\"\"\")\n",
    "data = c.fetchall()\n",
    "print(data[1])"
   ]
  },
  {
   "cell_type": "code",
   "execution_count": null,
   "id": "74ffe6a2-d728-4173-8dba-e872e39303b1",
   "metadata": {},
   "outputs": [],
   "source": [
    "dates = []\n",
    "temp = []\n",
    "humid = []\n",
    "for row in data:\n",
    "    dates.append(parser.parse(row[0]))\n",
    "    temp.append(row[1])\n",
    "    humid.append(row[2])"
   ]
  },
  {
   "cell_type": "code",
   "execution_count": null,
   "id": "9e26da2c-3b13-42ab-b8f9-be16a4dab95d",
   "metadata": {},
   "outputs": [],
   "source": [
    "fig, ax1 = plt.subplots()\n",
    "fig.set_figwidth(16)\n",
    "fig.set_figheight(9)\n",
    "ax1.grid()\n",
    "ax1.set_xlabel('Datum / Zeit')\n",
    "ax1.set_ylabel('Temperatur in °C')\n",
    "ax1.plot(dates,temp,'-')\n",
    "#plt.plot_date(dates,humid,'r-')\n",
    "\n",
    "ax2 = ax1.twinx()\n",
    "ax2.set_ylabel('Luftfeuchte in %')\n",
    "ax2.set_ylim(0, 100)\n",
    "ax2.plot(dates,humid,'r-')\n",
    "\n",
    "fig.show()\n",
    "fig.savefig(\"test.pdf\")"
   ]
  },
  {
   "cell_type": "markdown",
   "id": "5f4bacbb-f3ae-40bf-b7c8-e9295f430276",
   "metadata": {},
   "source": [
    "## Beispiel 3: Pandas nutzen\n",
    "Ein schönes getting Started ist auf der [Pandas Webseite](https://pandas.pydata.org/docs/getting_started/intro_tutorials/index.html) zu finden"
   ]
  },
  {
   "cell_type": "code",
   "execution_count": null,
   "id": "cc2b133f-536a-41b8-8d60-af68d15a316a",
   "metadata": {},
   "outputs": [],
   "source": [
    "data = pd.read_sql_query(\"\"\"\n",
    "SELECT A.start as Time, A.mean as Temperature, HUMID.mean as Humidity \n",
    "FROM\n",
    "  (SELECT \"GarageTemp\" as sensor, start, mean, min, max \n",
    "   FROM statistics \n",
    "   WHERE metadata_id IN (SELECT id FROM statistics_meta WHERE statistic_id = \"sensor.26_00003824da00_temperature\") \n",
    "   AND min > -20 \n",
    "   AND max < 40) AS A,\n",
    "  (SELECT start, mean, min, max \n",
    "   FROM statistics \n",
    "   WHERE metadata_id IN (SELECT id FROM statistics_meta WHERE statistic_id = \"sensor.26_00003824da00_humidity_htm1735\") \n",
    "   AND min > 0 \n",
    "   AND max < 100) AS HUMID\n",
    "WHERE\n",
    "  A.start = HUMID.start;\n",
    "\"\"\", conn, parse_dates=[\"Time\"])\n",
    "\n",
    "# Zeiten selektieren\n",
    "#data[data[\"Time\"] > \"2022-01-18\"]\n",
    "\n",
    "# Index nicht mehr numerisch, sondern das Datetime-Feld nutzen\n",
    "data = data.set_index('Time')\n",
    "\n",
    "# Anzeigen\n",
    "data"
   ]
  },
  {
   "cell_type": "markdown",
   "id": "fb2a3c5f-65b4-47ff-baf3-810be45a752c",
   "metadata": {},
   "source": [
    "### Temperaturverlauf mehrerer Monate"
   ]
  },
  {
   "cell_type": "code",
   "execution_count": null,
   "id": "eaacaac2-5fea-40f8-9c75-46f0eac9e184",
   "metadata": {},
   "outputs": [],
   "source": [
    "# Ein Jahr / eine Jahresscheibe aus den Daten holen\n",
    "plotdata = data[\"2021-10-01\":\"2022-06-30\"]\n",
    "h = plt.figure(figsize=(16, 8))\n",
    "ax = h.gca()\n",
    "ax.grid()\n",
    "ax.set_title(\"Temperaturverlauf eines Monats\",font='LiberationSans', size=20)\n",
    "ax.set_xlabel(\"Tag des Monats\")\n",
    "ax.set_ylabel(\"Temperatur in °C\")\n",
    "for i in [10,11,12,1,2,3,4,5,6]:\n",
    "    test = plotdata[plotdata.index.month == i]\n",
    "    plt.plot(test.index.day - 1 + (test.index.hour)/24.0,test.Temperature.rolling(7).mean(),'-', label=\"Temperaturverlauf Monat %i\" % (i))\n",
    "plt.legend()"
   ]
  },
  {
   "cell_type": "markdown",
   "id": "94bf1b35-f898-404d-aabd-db295fd7f734",
   "metadata": {},
   "source": [
    "### Einfacher Temperaturverlauf (Zeitraum)"
   ]
  },
  {
   "cell_type": "code",
   "execution_count": null,
   "id": "2953ac0d-e973-439d-a676-cdbae9819c1d",
   "metadata": {},
   "outputs": [],
   "source": [
    "plotdata = data[\"2022-07-01\":\"2022-07-07\"]\n",
    "\n",
    "h = plt.figure(figsize=(16, 8))\n",
    "h.gca().grid()\n",
    "\n",
    "plt.plot(plotdata.index,plotdata.Temperature,'-', label=\"Temperaturverlauf\")\n",
    "plt.legend()"
   ]
  },
  {
   "cell_type": "markdown",
   "id": "a093c83d-8e30-4c85-9b30-56bcec71b4f4",
   "metadata": {},
   "source": [
    "### Temperaturverlauf Lebenszeit"
   ]
  },
  {
   "cell_type": "code",
   "execution_count": null,
   "id": "e94eb5aa-de0a-4a75-9148-cbfd398ab10f",
   "metadata": {},
   "outputs": [],
   "source": [
    "plotdata = data\n",
    "\n",
    "h = plt.figure(figsize=(16, 8))\n",
    "h.gca().grid()\n",
    "\n",
    "plt.plot(plotdata.index,plotdata.Temperature.rolling(48).mean(),'-', label=\"Temperaturverlauf Window 48\")\n",
    "plt.legend()\n",
    "\n",
    "ax1 = h.gca()\n",
    "ax1.set_ylabel('Temperatur in °C')\n",
    "ax2 = ax1.twinx()\n",
    "ax2.set_ylabel('Luftfeuchte in %')\n",
    "ax2.set_ylim(30, 100)\n",
    "ax1.set_ylim(-5, 30) #grid gleich halten\n",
    "ax2.plot(plotdata.index,plotdata.Humidity.rolling(48).mean(),'r-', label=\"Feuchteverlauf Window 48\")\n",
    "ax2.legend()"
   ]
  },
  {
   "cell_type": "markdown",
   "id": "c8e18d23-89bb-43a2-9fda-17fd6d47a609",
   "metadata": {},
   "source": [
    "### Typ. Tagestemperaturverlauf im Juni"
   ]
  },
  {
   "cell_type": "code",
   "execution_count": null,
   "id": "aa0ae915-08bf-4659-bf4b-42141e9e6729",
   "metadata": {},
   "outputs": [],
   "source": [
    "plotdata = data[\"2022-06-01\":\"2022-06-30\"]\n",
    "plotdata = plotdata.reset_index()\n",
    "fig, axs = plt.subplots(figsize=(12, 4))\n",
    "plotdata.groupby(plotdata[\"Time\"].dt.hour)[\"Temperature\"].mean().plot(kind='bar', rot=0, ax=axs)\n",
    "axs.grid()\n",
    "axs.set_ylim(15,30)\n"
   ]
  },
  {
   "cell_type": "markdown",
   "id": "bdfe7518-0921-4c36-bfcd-03aca75a176b",
   "metadata": {},
   "source": [
    "## Datenbankverbindung beenden"
   ]
  },
  {
   "cell_type": "markdown",
   "id": "0edefcdd-240e-40f7-acd3-15293f0ec06d",
   "metadata": {},
   "source": [
    "c.close()\n",
    "conn.close()"
   ]
  }
 ],
 "metadata": {
  "kernelspec": {
   "display_name": "Python 3 (ipykernel)",
   "language": "python",
   "name": "python3"
  },
  "language_info": {
   "codemirror_mode": {
    "name": "ipython",
    "version": 3
   },
   "file_extension": ".py",
   "mimetype": "text/x-python",
   "name": "python",
   "nbconvert_exporter": "python",
   "pygments_lexer": "ipython3",
   "version": "3.10.5"
  }
 },
 "nbformat": 4,
 "nbformat_minor": 5
}

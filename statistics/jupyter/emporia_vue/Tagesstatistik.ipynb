{
 "cells": [
  {
   "cell_type": "markdown",
   "id": "0641a2d1-062a-46bc-a60c-ebbae080f52b",
   "metadata": {},
   "source": [
    "# Tagesstatistik"
   ]
  },
  {
   "cell_type": "markdown",
   "id": "d1ae5547-3e66-4297-a50d-794f9cca4a96",
   "metadata": {
    "tags": []
   },
   "source": [
    "## Bibliotheken einbinden\n",
    "(und magische Kommandos für jupyter)"
   ]
  },
  {
   "cell_type": "code",
   "execution_count": null,
   "id": "f6d2dab6-2fc1-46aa-b06f-c1087a5dabf4",
   "metadata": {
    "tags": []
   },
   "outputs": [],
   "source": [
    "import matplotlib.pyplot as plt\n",
    "import pandas as pd\n",
    "\n",
    "%config Completer.use_jedi = False\n",
    "%matplotlib widget"
   ]
  },
  {
   "cell_type": "code",
   "execution_count": null,
   "id": "585dd9e9-a4df-480e-b13b-a2d7be25083f",
   "metadata": {
    "tags": []
   },
   "outputs": [],
   "source": [
    "# Möglicherweise weitere Schriftarten laden (hier: Standardschriftart ändern)\n",
    "from matplotlib import rcParams\n",
    "#rcParams['axes.spines.top'] = False\n",
    "#rcParams['axes.spines.right'] = False\n",
    "\n",
    "import matplotlib.font_manager\n",
    "import os\n",
    "\n",
    "# Add every font at the specified location\n",
    "font_dir = [os.path.join(os.getcwd(),\"..\",\"fonts\")]\n",
    "for font in matplotlib.font_manager.findSystemFonts(font_dir):\n",
    "    print(font)\n",
    "    matplotlib.font_manager.fontManager.addfont(font)\n",
    "# Debugging: Prüfen auf eine Schrift\n",
    "#print(matplotlib.font_manager.findfont('Caveat'))\n",
    "# Debugging: Fonts listen\n",
    "#matplotlib.font_manager.findSystemFonts(fontpaths=font_dir, fontext='ttf')[:10]\n",
    "\n",
    "# Set font family globally\n",
    "rcParams['font.family'] = 'Caveat'\n",
    "rcParams.update({'font.size': 12})\n"
   ]
  },
  {
   "cell_type": "markdown",
   "id": "602a55c7-1a15-4f52-aa18-14ebf944757c",
   "metadata": {},
   "source": [
    "## Daten einlesen"
   ]
  },
  {
   "cell_type": "code",
   "execution_count": null,
   "id": "545a2803-466e-4b8a-add6-4f1bc65bc487",
   "metadata": {},
   "outputs": [],
   "source": [
    "# Laden der minütlichen Information\n",
    "data = pd.read_csv('example_data/example.csv', delimiter=\",\",index_col=0, parse_dates=[0], na_values=['No CT'])\n",
    "#data"
   ]
  },
  {
   "cell_type": "markdown",
   "id": "86dc6b70-5ea7-4899-84cf-647337b5387c",
   "metadata": {},
   "source": [
    "## Daten eingrenzen\n",
    "\n",
    "Wir beschränken die verfügbaren Daten zunächst auf einen Zeitraum:"
   ]
  },
  {
   "cell_type": "code",
   "execution_count": null,
   "id": "bece6f2d-e7f2-4c25-a12c-67acf387cf12",
   "metadata": {},
   "outputs": [],
   "source": [
    "plotdata = data[\"2022-07-09\":\"2022-07-11\"]"
   ]
  },
  {
   "cell_type": "markdown",
   "id": "3e283dec-f70c-4234-891c-7e4b301f3bd0",
   "metadata": {},
   "source": [
    "Da wir die Daten später gruppieren möchten, wandeln wir die Index-Spalte (momentan die Zeit) in eine normale Spalte um."
   ]
  },
  {
   "cell_type": "code",
   "execution_count": null,
   "id": "08d824a3-36f3-4971-9d8e-3001230feea6",
   "metadata": {},
   "outputs": [],
   "source": [
    "plotdata = plotdata.reset_index()"
   ]
  },
  {
   "cell_type": "markdown",
   "id": "26b16f59-6198-46f1-a72a-34faf8e2bb4f",
   "metadata": {},
   "source": [
    "## Daten gruppieren\n",
    "Gruppiert wird nun auf Tag und Stunde."
   ]
  },
  {
   "cell_type": "code",
   "execution_count": null,
   "id": "a575afad-8ccf-498f-82f4-279fd146947c",
   "metadata": {},
   "outputs": [],
   "source": [
    "# Nur die drei Phasen des Hauptverteilers aus den Daten selektieren\n",
    "bdata = plotdata.iloc[:,0:4]\n",
    "# Neue Spalte der Summe der drei Phasen, da wir Gesamtverbrauch wissen wollen.\n",
    "bdata = bdata.assign(HV=lambda x: x.iloc[:,1:4].sum(1))\n",
    "# Neue Spalte für spätere Gruppierung: Tag des Monats\n",
    "bdata = bdata.assign(Day=lambda x: x.iloc[:,0].dt.day)\n",
    "# Neue Spalte für spätere Gruppierung: Stunde des Tages\n",
    "bdata = bdata.assign(Hour=lambda x: x.iloc[:,0].dt.hour)\n",
    "\n",
    "# Nach Tag und Stunde gruppieren\n",
    "bdata = bdata.groupby([\"Day\",\"Hour\"])[['HV']].mean()\n",
    "# MultiIndex auflösen, indem neue Namen für die Indexspalten vergeben werden\n",
    "bdata.index = bdata.index.set_names(['Day', 'Hour'])\n",
    "# Indexspalten in normale Spalten konvertieren\n",
    "bdata = bdata.reset_index()"
   ]
  },
  {
   "cell_type": "markdown",
   "id": "b0a1104f-21d8-4bc8-be53-69f78f99ed82",
   "metadata": {},
   "source": [
    "### Daten als Boxplot"
   ]
  },
  {
   "cell_type": "code",
   "execution_count": null,
   "id": "2c0bd3bc-b173-47cb-b78f-98c61b65e231",
   "metadata": {},
   "outputs": [],
   "source": [
    "# Statistik über Stunden als Boxplot darstellen\n",
    "fig, ax = plt.subplots(figsize=(10,8))\n",
    "# Boxplot zeichnen\n",
    "bdata.boxplot(by=\"Hour\",column=\"HV\", ax=ax)\n",
    "# Hilfsvariable für Anzeige\n",
    "zeitraum = \"Vom %s bis %s\" % (plotdata.iloc[:,0].min().strftime('%d.%m.%Y'),plotdata.iloc[:,0].max().strftime('%d.%m.%Y'))\n",
    "# Ploteinstellungen\n",
    "fig.suptitle(\"Statistik des Gesamtstromverbrauchs pro Stunde am Tag\\n\" + zeitraum, size=15)\n",
    "ax.set_title('(Hauptverteiler)')\n",
    "ax.set_xlabel(\"Stunde\")\n",
    "ax.set_ylabel(\"Stromverbrauch in kW\")\n",
    "# Speichern\n",
    "fig.savefig(\"Tagesstatistik_im_Zeitraum_von_.pdf\")"
   ]
  }
 ],
 "metadata": {
  "kernelspec": {
   "display_name": "Python 3 (ipykernel)",
   "language": "python",
   "name": "python3"
  },
  "language_info": {
   "codemirror_mode": {
    "name": "ipython",
    "version": 3
   },
   "file_extension": ".py",
   "mimetype": "text/x-python",
   "name": "python",
   "nbconvert_exporter": "python",
   "pygments_lexer": "ipython3",
   "version": "3.10.5"
  }
 },
 "nbformat": 4,
 "nbformat_minor": 5
}

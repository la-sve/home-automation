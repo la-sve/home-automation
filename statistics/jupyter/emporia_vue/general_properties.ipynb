{
 "cells": [
  {
   "cell_type": "code",
   "execution_count": null,
   "id": "b0da0d9e-7f7b-49a7-b888-73ce2e0bebf4",
   "metadata": {},
   "outputs": [],
   "source": [
    "# Generelle Konfigurationsdatei, gültig für alle Notebooks im Verzeichnis. Muss mittels run eingebunden werden."
   ]
  },
  {
   "cell_type": "code",
   "execution_count": 2,
   "id": "de9476c7-c0ef-4654-b5ad-40d9937e5f0b",
   "metadata": {},
   "outputs": [],
   "source": [
    "from IPython.display import HTML"
   ]
  },
  {
   "cell_type": "code",
   "execution_count": 18,
   "id": "4bde9de0-7ef7-40b5-a012-e0fb6437a704",
   "metadata": {},
   "outputs": [
    {
     "data": {
      "text/html": [
       "<style>\n",
       "body {\n",
       "    font-size: large;\n",
       "}\n",
       "p {\n",
       "    font-size: large;\n",
       "    font-family: \"Times New Roman\", Times, serif;\n",
       "    /*background-color:#00FFFF;*/\n",
       "}\n",
       "</style>\n"
      ],
      "text/plain": [
       "<IPython.core.display.HTML object>"
      ]
     },
     "metadata": {},
     "output_type": "display_data"
    }
   ],
   "source": [
    "%%html\n",
    "<style>\n",
    "body {\n",
    "    font-size: large;\n",
    "}\n",
    "p {\n",
    "    font-size: large;\n",
    "    font-family: \"Times New Roman\", Times, serif;\n",
    "    /*background-color:#00FFFF;*/\n",
    "}\n",
    "</style>"
   ]
  },
  {
   "cell_type": "code",
   "execution_count": null,
   "id": "05a70d9c-9e5c-4f4d-89f4-badc2e9a0be0",
   "metadata": {
    "tags": []
   },
   "outputs": [],
   "source": [
    "# Bibliotheken einbinden\n",
    "# (und magische Kommandos für jupyter)"
   ]
  },
  {
   "cell_type": "code",
   "execution_count": 2,
   "id": "e8338d3c-cb7d-462f-94ff-cd615ea775cd",
   "metadata": {
    "tags": []
   },
   "outputs": [],
   "source": [
    "import matplotlib.pyplot as plt\n",
    "import pandas as pd\n",
    "\n",
    "%config Completer.use_jedi = False\n",
    "%matplotlib widget"
   ]
  },
  {
   "cell_type": "code",
   "execution_count": 3,
   "id": "97fe84c4-b9e1-4d85-8df5-d5d1059a8f38",
   "metadata": {
    "tags": []
   },
   "outputs": [
    {
     "name": "stdout",
     "output_type": "stream",
     "text": [
      "/home/jovyan/work/fonts/Caveat-Regular.ttf\n"
     ]
    }
   ],
   "source": [
    "# Möglicherweise weitere Schriftarten laden (hier: Standardschriftart ändern)\n",
    "from matplotlib import rcParams\n",
    "#rcParams['axes.spines.top'] = False\n",
    "#rcParams['axes.spines.right'] = False\n",
    "\n",
    "import matplotlib.font_manager\n",
    "import os\n",
    "\n",
    "# Add every font at the specified location\n",
    "font_dir = [os.path.join(os.getcwd(),\"..\",\"fonts\")]\n",
    "for font in matplotlib.font_manager.findSystemFonts(font_dir):\n",
    "    print(font)\n",
    "    matplotlib.font_manager.fontManager.addfont(font)\n",
    "# Debugging: Prüfen auf eine Schrift\n",
    "#print(matplotlib.font_manager.findfont('Caveat'))\n",
    "# Debugging: Fonts listen\n",
    "#matplotlib.font_manager.findSystemFonts(fontpaths=font_dir, fontext='ttf')[:10]\n",
    "\n",
    "# Set font family globally\n",
    "rcParams['font.family'] = 'Caveat'\n",
    "rcParams.update({'font.size': 12})\n"
   ]
  }
 ],
 "metadata": {
  "kernelspec": {
   "display_name": "Python 3 (ipykernel)",
   "language": "python",
   "name": "python3"
  },
  "language_info": {
   "codemirror_mode": {
    "name": "ipython",
    "version": 3
   },
   "file_extension": ".py",
   "mimetype": "text/x-python",
   "name": "python",
   "nbconvert_exporter": "python",
   "pygments_lexer": "ipython3",
   "version": "3.10.5"
  }
 },
 "nbformat": 4,
 "nbformat_minor": 5
}

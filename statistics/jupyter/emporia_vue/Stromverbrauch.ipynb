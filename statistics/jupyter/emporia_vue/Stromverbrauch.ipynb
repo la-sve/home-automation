{
 "cells": [
  {
   "cell_type": "markdown",
   "id": "63d77de8-27f4-4cbc-a96a-fff8afd66d96",
   "metadata": {},
   "source": [
    "# Stromverbrauch"
   ]
  },
  {
   "cell_type": "markdown",
   "id": "6aee7317-7b0b-4101-83c6-c6148beedc64",
   "metadata": {
    "tags": []
   },
   "source": [
    "## Bibliotheken einbinden\n",
    "(und magische Kommandos für jupyter)"
   ]
  },
  {
   "cell_type": "code",
   "execution_count": null,
   "id": "2756ff63-cce5-4fc8-8eae-c833ca833cf3",
   "metadata": {
    "tags": []
   },
   "outputs": [],
   "source": [
    "import matplotlib.pyplot as plt\n",
    "import pandas as pd\n",
    "\n",
    "%config Completer.use_jedi = False\n",
    "%matplotlib widget"
   ]
  },
  {
   "cell_type": "code",
   "execution_count": null,
   "id": "4734e32c-43c2-49c7-ae71-6a85eef7a1c5",
   "metadata": {
    "tags": []
   },
   "outputs": [],
   "source": [
    "# Möglicherweise weitere Schriftarten laden (hier: Standardschriftart ändern)\n",
    "from matplotlib import rcParams\n",
    "#rcParams['axes.spines.top'] = False\n",
    "#rcParams['axes.spines.right'] = False\n",
    "\n",
    "import matplotlib.font_manager\n",
    "import os\n",
    "\n",
    "# Add every font at the specified location\n",
    "font_dir = [os.path.join(os.getcwd(),\"..\",\"fonts\")]\n",
    "for font in matplotlib.font_manager.findSystemFonts(font_dir):\n",
    "    print(font)\n",
    "    matplotlib.font_manager.fontManager.addfont(font)\n",
    "# Debugging: Prüfen auf eine Schrift\n",
    "#print(matplotlib.font_manager.findfont('Caveat'))\n",
    "# Debugging: Fonts listen\n",
    "#matplotlib.font_manager.findSystemFonts(fontpaths=font_dir, fontext='ttf')[:10]\n",
    "\n",
    "# Set font family globally\n",
    "rcParams['font.family'] = 'Caveat'\n",
    "rcParams.update({'font.size': 12})\n"
   ]
  },
  {
   "cell_type": "markdown",
   "id": "afa0c828-61e5-47c6-9346-47956906ca72",
   "metadata": {},
   "source": [
    "## Daten einlesen"
   ]
  },
  {
   "cell_type": "code",
   "execution_count": null,
   "id": "2a56bd9e-ecc9-42b9-983f-2168cc396ae2",
   "metadata": {},
   "outputs": [],
   "source": [
    "# Laden der minütlichen Information\n",
    "data = pd.read_csv('example_data/example.csv', delimiter=\",\",index_col=0, parse_dates=[0], na_values=['No CT'])\n",
    "#data"
   ]
  },
  {
   "cell_type": "markdown",
   "id": "554909dd-acbe-4b9b-8001-d493790e0396",
   "metadata": {
    "tags": []
   },
   "source": [
    "## Gesamtenergieverbrauch Tagesverlauf (optional summiert über mehrere Tage)\n",
    "Wir wollen wissen, zu welchen Uhrzeiten wir typischerweise viel Strom verbrauchen. \n",
    "Diese Auswertung kann über einen Tag geschehen, oder summiert / gemittelt über mehrere Tage."
   ]
  },
  {
   "cell_type": "markdown",
   "id": "d332f67d-0e7d-4839-a6d7-51599d71b935",
   "metadata": {},
   "source": [
    "## Daten eingrenzen\n",
    "\n",
    "Wir beschränken die verfügbaren Daten zunächst auf einen Zeitraum:"
   ]
  },
  {
   "cell_type": "code",
   "execution_count": null,
   "id": "5337ecfd-39be-4d5e-bac3-e8d1d510eb0b",
   "metadata": {},
   "outputs": [],
   "source": [
    "plotdata = data[\"2022-07-09\":\"2022-07-11\"]"
   ]
  },
  {
   "cell_type": "markdown",
   "id": "05602d66-da08-4202-9842-177bd410455d",
   "metadata": {},
   "source": [
    "Da wir die Daten später gruppieren möchten, wandeln wir die Index-Spalte (momentan die Zeit) in eine normale Spalte um."
   ]
  },
  {
   "cell_type": "code",
   "execution_count": null,
   "id": "3d9aabd4-1804-4987-a07a-8f7af86a7d3c",
   "metadata": {},
   "outputs": [],
   "source": [
    "plotdata = plotdata.reset_index()"
   ]
  },
  {
   "cell_type": "markdown",
   "id": "3a186903-b57b-4a31-a2e0-24fea9503f5b",
   "metadata": {},
   "source": [
    "## Daten gruppieren\n",
    "Gruppiert wird nun auf Tag und Stunde. Als Funktion wenden wir den Mittelwert auf die gruppierten Daten an und verwenden apply, um etwas flexibler zu sein."
   ]
  },
  {
   "cell_type": "code",
   "execution_count": null,
   "id": "ad8e98ed-b438-4684-9c9d-b4ae7a1fcab6",
   "metadata": {},
   "outputs": [],
   "source": [
    "gdata = plotdata.groupby([plotdata.iloc[:,0].dt.day, plotdata.iloc[:,0].dt.hour]).apply(lambda s: pd.Series({ \n",
    "    \"HV1\": s[\"Hauptverteiler_1 (kWatts)\"].mean(), \n",
    "    \"HV2\": s[\"Hauptverteiler_2 (kWatts)\"].mean(), \n",
    "    \"HV3\": s[\"Hauptverteiler_3 (kWatts)\"].mean(), \n",
    "    \"HV\": (s[\"Hauptverteiler_1 (kWatts)\"]+s[\"Hauptverteiler_2 (kWatts)\"]+s[\"Hauptverteiler_3 (kWatts)\"]).mean(), \n",
    "}))"
   ]
  },
  {
   "cell_type": "markdown",
   "id": "19478036-97a6-448f-8cd0-a912d436beb3",
   "metadata": {},
   "source": [
    "Nachdem wir den Tagesverlauf noch einzeln für jeden Tag im Abfragezeitraum haben, können wir eine nächste Gruppierung anwenden, um mehrere Tage gleichzeitg auszuwerten. Wir gruppieren also nur noch auf Stunden. Dazu müssen wir zunächst den multiindex aus der vorherigen, zweifachen Gruppierung auf die Zeitspalte auflösen. Das tun wir, in dem die Indexspalten umbenannt werden. (Zuvor hatten beide den gleichen Namen, was zu fehlern beim Auflösen des Index führt.)"
   ]
  },
  {
   "cell_type": "code",
   "execution_count": null,
   "id": "c80642ba-e4ab-4cba-9929-5cac943fcbce",
   "metadata": {},
   "outputs": [],
   "source": [
    "# set index names for multiindex\n",
    "gdata.index = gdata.index.set_names(['Day', 'Hour'])\n",
    "# convert index to normal columns\n",
    "gdata2 = gdata.reset_index()\n",
    "# summed values\n",
    "gdata2sum = gdata2.groupby([gdata2.iloc[:,1]])[['HV1','HV2','HV3']].sum()\n",
    "# mean values\n",
    "gdata2mean = gdata2.groupby([gdata2.iloc[:,1]])[['HV1','HV2','HV3']].mean()"
   ]
  },
  {
   "cell_type": "markdown",
   "id": "3632e23b-f3f0-465f-98c5-a39880970e6a",
   "metadata": {},
   "source": [
    "### Daten darstellen"
   ]
  },
  {
   "cell_type": "code",
   "execution_count": null,
   "id": "65499569-940e-4612-8443-7257364ed454",
   "metadata": {},
   "outputs": [],
   "source": [
    "h = plt.figure(figsize=(10, 5))\n",
    "ax = h.gca()\n",
    "gdata2mean.plot.bar(stacked=True, rot=90, ax=ax)\n",
    "ax.set_title(\"Akkumulierte Stundenwerte\",font='DejaVu Sans', size=12)\n",
    "ax.set_xlabel(\"Stunde\")\n",
    "ax.set_ylabel(\"Stromverbrauch in kW\")\n",
    "h.savefig(\"Stromverbrauch.pdf\")"
   ]
  }
 ],
 "metadata": {
  "kernelspec": {
   "display_name": "Python 3 (ipykernel)",
   "language": "python",
   "name": "python3"
  },
  "language_info": {
   "codemirror_mode": {
    "name": "ipython",
    "version": 3
   },
   "file_extension": ".py",
   "mimetype": "text/x-python",
   "name": "python",
   "nbconvert_exporter": "python",
   "pygments_lexer": "ipython3",
   "version": "3.10.5"
  }
 },
 "nbformat": 4,
 "nbformat_minor": 5
}
